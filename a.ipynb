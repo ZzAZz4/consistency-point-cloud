{
 "cells": [
  {
   "cell_type": "code",
   "execution_count": 6,
   "metadata": {},
   "outputs": [
    {
     "name": "stdout",
     "output_type": "stream",
     "text": [
      "Requirement already satisfied: diffusers in /home/esteb/.conda/envs/cm/lib/python3.11/site-packages (0.23.1)\n",
      "Requirement already satisfied: Pillow in /home/esteb/.conda/envs/cm/lib/python3.11/site-packages (from diffusers) (10.1.0)\n",
      "Requirement already satisfied: filelock in /home/esteb/.conda/envs/cm/lib/python3.11/site-packages (from diffusers) (3.13.1)\n",
      "Requirement already satisfied: huggingface-hub>=0.13.2 in /home/esteb/.conda/envs/cm/lib/python3.11/site-packages (from diffusers) (0.19.4)\n",
      "Requirement already satisfied: importlib-metadata in /home/esteb/.conda/envs/cm/lib/python3.11/site-packages (from diffusers) (6.8.0)\n",
      "Requirement already satisfied: numpy in /home/esteb/.local/lib/python3.11/site-packages (from diffusers) (1.26.1)\n",
      "Requirement already satisfied: regex!=2019.12.17 in /home/esteb/.conda/envs/cm/lib/python3.11/site-packages (from diffusers) (2023.10.3)\n",
      "Requirement already satisfied: requests in /home/esteb/.conda/envs/cm/lib/python3.11/site-packages (from diffusers) (2.31.0)\n",
      "Requirement already satisfied: safetensors>=0.3.1 in /home/esteb/.conda/envs/cm/lib/python3.11/site-packages (from diffusers) (0.4.0)\n",
      "Requirement already satisfied: fsspec>=2023.5.0 in /home/esteb/.conda/envs/cm/lib/python3.11/site-packages (from huggingface-hub>=0.13.2->diffusers) (2023.10.0)\n",
      "Requirement already satisfied: tqdm>=4.42.1 in /home/esteb/.conda/envs/cm/lib/python3.11/site-packages (from huggingface-hub>=0.13.2->diffusers) (4.65.0)\n",
      "Requirement already satisfied: pyyaml>=5.1 in /home/esteb/.conda/envs/cm/lib/python3.11/site-packages (from huggingface-hub>=0.13.2->diffusers) (6.0.1)\n",
      "Requirement already satisfied: typing-extensions>=3.7.4.3 in /home/esteb/.local/lib/python3.11/site-packages (from huggingface-hub>=0.13.2->diffusers) (4.8.0)\n",
      "Requirement already satisfied: packaging>=20.9 in /home/esteb/.conda/envs/cm/lib/python3.11/site-packages (from huggingface-hub>=0.13.2->diffusers) (23.1)\n",
      "Requirement already satisfied: zipp>=0.5 in /home/esteb/.local/lib/python3.11/site-packages (from importlib-metadata->diffusers) (3.17.0)\n",
      "Requirement already satisfied: charset-normalizer<4,>=2 in /home/esteb/.conda/envs/cm/lib/python3.11/site-packages (from requests->diffusers) (2.0.4)\n",
      "Requirement already satisfied: idna<4,>=2.5 in /home/esteb/.conda/envs/cm/lib/python3.11/site-packages (from requests->diffusers) (3.4)\n",
      "Requirement already satisfied: urllib3<3,>=1.21.1 in /home/esteb/.conda/envs/cm/lib/python3.11/site-packages (from requests->diffusers) (1.26.18)\n",
      "Requirement already satisfied: certifi>=2017.4.17 in /home/esteb/.conda/envs/cm/lib/python3.11/site-packages (from requests->diffusers) (2023.11.17)\n",
      "Note: you may need to restart the kernel to use updated packages.\n"
     ]
    }
   ],
   "source": [
    "%pip install diffusers"
   ]
  },
  {
   "cell_type": "code",
   "execution_count": 7,
   "metadata": {},
   "outputs": [
    {
     "name": "stdout",
     "output_type": "stream",
     "text": [
      "The autoreload extension is already loaded. To reload it, use:\n",
      "  %reload_ext autoreload\n"
     ]
    }
   ],
   "source": [
    "%load_ext autoreload\n",
    "%autoreload 2"
   ]
  },
  {
   "cell_type": "code",
   "execution_count": 9,
   "metadata": {},
   "outputs": [
    {
     "name": "stderr",
     "output_type": "stream",
     "text": [
      "Cannot initialize model with low cpu memory usage because `accelerate` was not found in the environment. Defaulting to `low_cpu_mem_usage=False`. It is strongly recommended to install `accelerate` for faster and less memory-intense model loading. You can do so with: \n",
      "```\n",
      "pip install accelerate\n",
      "```\n",
      ".\n"
     ]
    },
    {
     "data": {
      "application/vnd.jupyter.widget-view+json": {
       "model_id": "429b78da0c9a417896df393a19888a65",
       "version_major": 2,
       "version_minor": 0
      },
      "text/plain": [
       "Loading pipeline components...:   0%|          | 0/2 [00:00<?, ?it/s]"
      ]
     },
     "metadata": {},
     "output_type": "display_data"
    },
    {
     "name": "stderr",
     "output_type": "stream",
     "text": [
      "Loaded scheduler as CMStochasticIterativeScheduler from `scheduler` subfolder of openai/diffusers-cd_imagenet64_l2.\n",
      "{'num_train_timesteps', 'dropout'} was not found in config. Values will be initialized to default values.\n",
      "All model checkpoint weights were used when initializing UNet2DModel.\n",
      "\n",
      "All the weights of UNet2DModel were initialized from the model checkpoint at /home/esteb/.cache/huggingface/hub/models--openai--diffusers-cd_imagenet64_l2/snapshots/5f462e4403fc37b72ec6004e806c71805db22387/unet.\n",
      "If your task is similar to the task the model of the checkpoint was trained on, you can already use UNet2DModel for predictions without further training.\n",
      "Loaded unet as UNet2DModel from `unet` subfolder of openai/diffusers-cd_imagenet64_l2.\n",
      "Both `num_inference_steps`: 1 and `timesteps`: [0] are supplied; `timesteps` will be used over `num_inference_steps`.\n"
     ]
    },
    {
     "data": {
      "application/vnd.jupyter.widget-view+json": {
       "model_id": "78892c3a3b5a48669eb01cd84e9a6632",
       "version_major": 2,
       "version_minor": 0
      },
      "text/plain": [
       "  0%|          | 0/1 [00:00<?, ?it/s]"
      ]
     },
     "metadata": {},
     "output_type": "display_data"
    },
    {
     "name": "stdout",
     "output_type": "stream",
     "text": [
      "sample_variance tensor(80., device='cuda:0', dtype=torch.float16)\n",
      "scaled_sample_variance tensor(1., device='cuda:0', dtype=torch.float16)\n",
      "model_output_variance tensor(1.1387, device='cuda:0', dtype=torch.float16)\n",
      "model_output_min_max tensor(-1.9658, device='cuda:0', dtype=torch.float16) tensor(2.0117, device='cuda:0', dtype=torch.float16)\n",
      "image [<PIL.Image.Image image mode=RGB size=64x64 at 0x7FA4400FEA50>]\n"
     ]
    },
    {
     "data": {
      "text/plain": [
       "<matplotlib.image.AxesImage at 0x7fa4400ff010>"
      ]
     },
     "execution_count": 9,
     "metadata": {},
     "output_type": "execute_result"
    },
    {
     "data": {
      "image/png": "[encoded data removed]",
      "text/plain": [
       "<Figure size 640x480 with 1 Axes>"
      ]
     },
     "metadata": {},
     "output_type": "display_data"
    }
   ],
   "source": [
    "import torch\n",
    "import diffusers\n",
    "diffusers.logging.set_verbosity_info()\n",
    "from diffusers.pipelines.consistency_models.pipeline_consistency_models import ConsistencyModelPipeline\n",
    "from matplotlib import pyplot as plt\n",
    "\n",
    "device = \"cuda\"\n",
    "# Load the cd_imagenet64_l2 checkpoint.\n",
    "model_id_or_path = \"openai/diffusers-cd_imagenet64_l2\"\n",
    "pipe = ConsistencyModelPipeline.from_pretrained(model_id_or_path, torch_dtype=torch.float16)\n",
    "\n",
    "pipe.to(device)\n",
    "\n",
    "# Onestep Sampling\n",
    "class_id = torch.tensor(145, dtype=torch.long)\n",
    "output= pipe.__call__(timesteps=[0], class_labels=class_id)\n",
    "image = output.images[0]\n",
    "plt.imshow(image)\n",
    "\n",
    "\n",
    "# Onestep sampling, class-conditional image generation\n",
    "# ImageNet-64 class label 145 corresponds to king penguins\n",
    "\n",
    "# class_id = torch.tensor(145, dtype=torch.long)\n",
    "\n",
    "# image = pipe(num_inference_steps=1, class_labels=class_id).images[0]\n",
    "# image.save(\"consistency_model_onestep_sample_penguin.png\")\n",
    "\n",
    "# # Multistep sampling, class-conditional image generation\n",
    "# # Timesteps can be explicitly specified; the particular timesteps below are from the original Github repo.\n",
    "# # https://github.com/openai/consistency_models/blob/main/scripts/launch.sh#L77\n",
    "# image = pipe(timesteps=[22, 0], class_labels=class_id).images[0]\n",
    "# image.save(\"consistency_model_multistep_sample_penguin.png\")"
   ]
  }
 ],
 "metadata": {
  "kernelspec": {
   "display_name": "cm",
   "language": "python",
   "name": "python3"
  },
  "language_info": {
   "codemirror_mode": {
    "name": "ipython",
    "version": 3
   },
   "file_extension": ".py",
   "mimetype": "text/x-python",
   "name": "python",
   "nbconvert_exporter": "python",
   "pygments_lexer": "ipython3",
   "version": "3.11.5"
  }
 },
 "nbformat": 4,
 "nbformat_minor": 2
}
